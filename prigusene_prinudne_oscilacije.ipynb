{
  "nbformat": 4,
  "nbformat_minor": 0,
  "metadata": {
    "colab": {
      "provenance": [],
      "authorship_tag": "ABX9TyOOFM8nvfKoYzG0vT66io2R",
      "include_colab_link": true
    },
    "kernelspec": {
      "name": "python3",
      "display_name": "Python 3"
    },
    "language_info": {
      "name": "python"
    }
  },
  "cells": [
    {
      "cell_type": "markdown",
      "metadata": {
        "id": "view-in-github",
        "colab_type": "text"
      },
      "source": [
        "<a href=\"https://colab.research.google.com/github/darior105/fizika_lab/blob/main/prigusene_prinudne_oscilacije.ipynb\" target=\"_parent\"><img src=\"https://colab.research.google.com/assets/colab-badge.svg\" alt=\"Open In Colab\"/></a>"
      ]
    },
    {
      "cell_type": "code",
      "execution_count": 26,
      "metadata": {
        "id": "tJ2JNPxZsamf"
      },
      "outputs": [],
      "source": [
        "import numpy as np\n",
        "from scipy.stats import linregress\n",
        "import matplotlib.pyplot as plt"
      ]
    },
    {
      "cell_type": "code",
      "source": [
        "#unosim podatke\n",
        "A1 = np.array([15.95, 13.95, 10.55, 7.15])\n",
        "A2 = np.array([15.1, 11.8, 5.55, 2.75])\n",
        "T = np.array([1.9825, 2.001, 2.0035, 2.027])\n",
        "dA = 0.2\n",
        "dT = 0.02"
      ],
      "metadata": {
        "id": "fz10YlJ2skMX"
      },
      "execution_count": 27,
      "outputs": []
    },
    {
      "cell_type": "code",
      "source": [
        "# Izracunamo Lambda\n",
        "L = np.log(A1 / A2)\n",
        "\n",
        "# Kvadrate lambda i perioda\n",
        "L_squared = L**2\n",
        "T_squared = T**2"
      ],
      "metadata": {
        "id": "7yhx4rv21yAM"
      },
      "execution_count": 28,
      "outputs": []
    },
    {
      "cell_type": "code",
      "source": [
        "# Lienarna regresija/ fitovanje prave kros L^2 i T^2\n",
        "slope, intercept, r_value, p_value, std_err = linregress(T_squared, L_squared)"
      ],
      "metadata": {
        "id": "b6921sH31-s5"
      },
      "execution_count": 29,
      "outputs": []
    },
    {
      "cell_type": "code",
      "source": [
        "print( slope)\n",
        "print( intercept)"
      ],
      "metadata": {
        "colab": {
          "base_uri": "https://localhost:8080/"
        },
        "id": "xXfXwmEC25rV",
        "outputId": "d4a018e2-cf01-430c-81c1-625f1728a3fa"
      },
      "execution_count": 30,
      "outputs": [
        {
          "output_type": "stream",
          "name": "stdout",
          "text": [
            "5.324446634961963\n",
            "-21.03457384938674\n"
          ]
        }
      ]
    },
    {
      "cell_type": "code",
      "source": [
        "\n",
        "\n",
        "\n",
        "# Calculate error for ln(A1/A2)\n",
        "dL = np.sqrt((dA / A1)**2 + (dA / A2)**2)\n",
        "\n",
        "# Plot the data points, the fitted line, and error bars with corrected error for ln(A1/A2)\n",
        "plt.scatter(T_squared, L_squared, label='Data Points')\n",
        "plt.plot(T_squared, intercept + slope * T_squared, 'r', label='Fitted Line')\n",
        "\n",
        "# Add error bars for A1, A2, and T\n",
        "plt.errorbar(T_squared, L_squared, xerr=2 * dT, yerr=dL, fmt='none', ecolor='b', capsize=3, label='Error Bars')\n",
        "\n",
        "plt.xlabel('T^2')\n",
        "plt.ylabel('L^2')\n",
        "plt.legend()\n",
        "plt.show()"
      ],
      "metadata": {
        "id": "ECzorXHW3EyE",
        "outputId": "66da7dab-5079-47cf-dacd-dbe9080db90c",
        "colab": {
          "base_uri": "https://localhost:8080/",
          "height": 449
        }
      },
      "execution_count": 32,
      "outputs": [
        {
          "output_type": "display_data",
          "data": {
            "text/plain": [
              "<Figure size 640x480 with 1 Axes>"
            ],
            "image/png": "[encoded data removed]"
          },
          "metadata": {}
        }
      ]
    },
    {
      "cell_type": "code",
      "source": [
        "L_squared"
      ],
      "metadata": {
        "id": "cMd86Rpn3dyi",
        "outputId": "0162fc2b-8b5f-4fa2-bbf4-754a2dec7d82",
        "colab": {
          "base_uri": "https://localhost:8080/"
        }
      },
      "execution_count": 21,
      "outputs": [
        {
          "output_type": "execute_result",
          "data": {
            "text/plain": [
              "array([0.00299911, 0.02801606, 0.41258517, 0.91300212])"
            ]
          },
          "metadata": {},
          "execution_count": 21
        }
      ]
    },
    {
      "cell_type": "code",
      "source": [],
      "metadata": {
        "id": "XrvCO4UX3rje"
      },
      "execution_count": null,
      "outputs": []
    }
  ]
}